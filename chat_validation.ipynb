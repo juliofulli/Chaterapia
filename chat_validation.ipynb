{
 "cells": [
  {
   "cell_type": "code",
   "execution_count": null,
   "metadata": {},
   "outputs": [],
   "source": [
    "from datasets import load_dataset, Dataset\n",
    "import pandas as pd\n",
    "from transformers import AutoModelForCausalLM, AutoTokenizer\n",
    "from peft import PeftModel\n",
    "import gradio as gr\n",
    "import os\n",
    "import torch\n",
    "from sentence_transformers import SentenceTransformer, util\n",
    "\n",
    "device = \"cuda\" if torch.cuda.is_available() else \"cpu\"\n",
    "model_similarity = SentenceTransformer('hiiamsid/sentence_similarity_spanish_es')"
   ]
  },
  {
   "cell_type": "code",
   "execution_count": null,
   "metadata": {
    "tags": []
   },
   "outputs": [],
   "source": [
    "dataset = load_dataset(\"Juliofc/Conversaciones_terapeuticas_espanol_test\")total = []\n",
    "for i in dataset[\"train\"][\"Chat\"]:\n",
    "    total.append(len(i))"
   ]
  },
  {
   "cell_type": "code",
   "execution_count": null,
   "metadata": {
    "tags": []
   },
   "outputs": [],
   "source": [
    "x = []\n",
    "dataset = load_dataset(\"Juliofc/Conversaciones_terapeuticas_espanol_test\")\n",
    "for i in range(len(dataset[\"train\"][\"Chat\"])):\n",
    "    sin_role = dataset[\"train\"][\"Chat\"][i][1:]\n",
    "    x.append(sin_role)\n",
    "\n",
    "df = pd.DataFrame({\"Chat\": x})\n",
    "dataset = Dataset.from_pandas(df)"
   ]
  },
  {
   "cell_type": "code",
   "execution_count": null,
   "metadata": {
    "tags": []
   },
   "outputs": [],
   "source": [
    "# Configuración inicial\n",
    "tokenizer = AutoTokenizer.from_pretrained(\"somosnlp/chaterapia_model\")\n",
    "model_base = AutoModelForCausalLM.from_pretrained(\"google/gemma-2b-it\").to(device)\n",
    "model_base.resize_token_embeddings(len(tokenizer))\n",
    "model_with_adapter = PeftModel.from_pretrained(model_base, \"somosnlp/chaterapia_model\").to(device)\n",
    "\n",
    "CHAT_TEMPLATE= \"\"\"{% for message in messages %}\n",
    "    {% if message['role'] == 'user' %}\n",
    "        {{'<user> ' + message['content'].strip() + ' </user>' }}\n",
    "    {% elif message['role'] == 'system' %}\n",
    "        {{'<system>\\\\n' + message['content'].strip() + '\\\\n</system>\\\\n\\\\n' }}\n",
    "    {% elif message['role'] == 'assistant' %}\n",
    "        {{ message['content'].strip() + ' </assistant>' + eos_token }}\n",
    "    {% elif message['role'] == 'input' %}\n",
    "        {{'<input> ' + message['content'] + ' </input>' }}\n",
    "    {% endif %}\n",
    "{% endfor %}\"\"\" # Asegúrate de usar tu CHAT_TEMPLATE aquí\n",
    "tokenizer.chat_template = CHAT_TEMPLATE\n",
    "\n",
    "def generate_response(user_input):\n",
    "    # Preparación del input para el modelo\n",
    "    user_input = tokenizer.apply_chat_template(user_input, tokenize=False)\n",
    "    input_tokens = tokenizer(user_input, return_tensors='pt', padding=True).to(device)#, truncation=True).to(device)#, max_length=1024).to(device)\n",
    "    \n",
    "    # Generación de la respuesta del modelo\n",
    "    output_tokens = model_with_adapter.generate(**input_tokens, max_new_tokens = 1024, pad_token_id=tokenizer.eos_token_id)#, top_k=50, do_sample=True, top_p=0.95, temperature=0.7)\n",
    "    generated_text = tokenizer.decode(output_tokens[0], skip_special_tokens=True)\n",
    "    \n",
    "    # Extracción de la respuesta generada\n",
    "    last_us = generated_text.rfind(\"</user>\") + len(\"</user>\")\n",
    "    last_as = generated_text.rfind(\"</assistant>\")\n",
    "    generated_text = generated_text[last_us:last_as].strip()\n",
    "    return generated_text"
   ]
  },
  {
   "cell_type": "code",
   "execution_count": null,
   "metadata": {
    "tags": []
   },
   "outputs": [],
   "source": [
    "def find_similarity(Chatbot_response, Real_response):\n",
    "    # Compute embedding for both lists\n",
    "    embeddings1 = model_similarity.encode(Chatbot_response, convert_to_tensor=True)\n",
    "    embeddings2 = model_similarity.encode(Real_response, convert_to_tensor=True)\n",
    "\n",
    "    # Compute cosine-similarities\n",
    "    cosine_score = util.cos_sim(embeddings1, embeddings2)\n",
    "    metric = round(float(cosine_score), 4)\n",
    "    return metric"
   ]
  },
  {
   "cell_type": "code",
   "execution_count": null,
   "metadata": {
    "tags": []
   },
   "outputs": [],
   "source": [
    "total_metrics = []\n",
    "for conv in dataset[\"Chat\"]:\n",
    "    conv_metrics={}\n",
    "    inter = 1\n",
    "    for chat in conv:\n",
    "        if chat[\"role\"] == \"assistant\":\n",
    "            conv_metrics[str(inter)] = 0\n",
    "            inter = inter + 1\n",
    "    total_metrics.append(conv_metrics)"
   ]
  },
  {
   "cell_type": "code",
   "execution_count": null,
   "metadata": {
    "tags": []
   },
   "outputs": [],
   "source": [
    "ind= 1\n",
    "for conv in range(len(dataset[\"Chat\"])):\n",
    "    print(ind)\n",
    "    ind = ind+1\n",
    "    conv_simil = []\n",
    "    for inter in range(len(dataset[\"Chat\"][conv])):\n",
    "        if inter%2==1:\n",
    "            try:\n",
    "                response = generate_response(dataset[\"Chat\"][conv][0:inter+1])\n",
    "                real = dataset[\"Chat\"][conv][inter][\"content\"]\n",
    "                simil = find_similarity(response, real)\n",
    "                conv_simil.append(simil)\n",
    "            except:\n",
    "                print(\"error\")\n",
    "                conv_simil.append(None)\n",
    "        else:\n",
    "            continue\n",
    "    for i in range(len(conv_simil)):\n",
    "        total_metrics[conv][str(i+1)] = conv_simil[i]\n"
   ]
  }
 ],
 "metadata": {
  "kernelspec": {
   "display_name": "Python 3 (ipykernel)",
   "language": "python",
   "name": "python3"
  },
  "language_info": {
   "codemirror_mode": {
    "name": "ipython",
    "version": 3
   },
   "file_extension": ".py",
   "mimetype": "text/x-python",
   "name": "python",
   "nbconvert_exporter": "python",
   "pygments_lexer": "ipython3",
   "version": "3.11.9"
  }
 },
 "nbformat": 4,
 "nbformat_minor": 4
}
