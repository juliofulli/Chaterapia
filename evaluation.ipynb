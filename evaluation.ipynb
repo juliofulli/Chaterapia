{
 "cells": [
  {
   "cell_type": "code",
   "execution_count": null,
   "metadata": {},
   "outputs": [],
   "source": [
    "import pandas as pd\n",
    "df_chat = pd.read_csv(\"Chatbot_val.csv\", index_col=\"Unnamed: 0\")\n",
    "df_gemma = pd.read_csv(\"gemma_val.csv\", index_col=\"Unnamed: 0\")"
   ]
  },
  {
   "cell_type": "code",
   "execution_count": null,
   "metadata": {},
   "outputs": [],
   "source": [
    "import re\n",
    "import ast\n",
    "\n",
    "res_lst = []\n",
    "for i in range(len(df_chat)):\n",
    "    # initializing string\n",
    "    test_str = df_chat[\"metrics\"][i]\n",
    "\n",
    "    # define regular expression pattern to match dictionary literals\n",
    "    pattern = r\"{[^{}]+}\"\n",
    "\n",
    "    # find all matches of dictionary literals in input string\n",
    "    matches = re.findall(pattern, test_str)\n",
    "\n",
    "    # use ast.literal_eval() to convert each matched string to a dictionary object\n",
    "    res = [ast.literal_eval(match) for match in matches]\n",
    "    res_lst.append(res)\n",
    "df_chat = pd.DataFrame(\n",
    "    {\"metrics\": res_lst}\n",
    ")\n",
    "\n",
    "res_lst = []\n",
    "for i in range(len(df_gemma)):\n",
    "    # initializing string\n",
    "    test_str = df_gemma[\"metrics\"][i]\n",
    "\n",
    "    # define regular expression pattern to match dictionary literals\n",
    "    pattern = r\"{[^{}]+}\"\n",
    "\n",
    "    # find all matches of dictionary literals in input string\n",
    "    matches = re.findall(pattern, test_str)\n",
    "\n",
    "    # use ast.literal_eval() to convert each matched string to a dictionary object\n",
    "    res = [ast.literal_eval(match) for match in matches]\n",
    "    res_lst.append(res)\n",
    "df_gemma = pd.DataFrame(\n",
    "    {\"metrics\": res_lst}\n",
    ")"
   ]
  },
  {
   "cell_type": "code",
   "execution_count": null,
   "metadata": {},
   "outputs": [],
   "source": [
    "max_len=0\n",
    "ind = 0\n",
    "for i in range(len(df_gemma[\"metrics\"])):\n",
    "    x = len(df_gemma[\"metrics\"][i][0])\n",
    "    if x>max_len:\n",
    "        max_len = x\n",
    "        ind = i"
   ]
  },
  {
   "cell_type": "code",
   "execution_count": null,
   "metadata": {},
   "outputs": [],
   "source": [
    "len_total = []\n",
    "for i in range(len(df_gemma[\"metrics\"])):\n",
    "    x = len(df_gemma[\"metrics\"][i][0])\n",
    "    leni = x\n",
    "    ind = i\n",
    "    len_total.append(leni)"
   ]
  },
  {
   "cell_type": "code",
   "execution_count": null,
   "metadata": {},
   "outputs": [],
   "source": [
    "chat_metrics={}\n",
    "for chat in range(13):\n",
    "    chat_metrics[str(chat+1)] = 0\n",
    "\n",
    "gemma_metrics={}\n",
    "for chat in range(13):\n",
    "    gemma_metrics[str(chat+1)] = 0"
   ]
  },
  {
   "cell_type": "code",
   "execution_count": null,
   "metadata": {},
   "outputs": [],
   "source": [
    "from statistics import mean\n",
    "for row in df_chat[\"metrics\"]:\n",
    "    for key, value in row[0].items():\n",
    "        for key2, value2 in chat_metrics.items():\n",
    "            if key == key2:\n",
    "                if value2 == None:\n",
    "                    break\n",
    "                if value2 == 0:\n",
    "                    chat_metrics[key] = value\n",
    "                else:\n",
    "                    mean_me = mean([value,value2])\n",
    "                    chat_metrics[key] = mean_me\n",
    "                break\n",
    "            else:\n",
    "                continue\n",
    "\n",
    "for row in df_gemma[\"metrics\"]:\n",
    "    for key, value in row[0].items():\n",
    "        for key2, value2 in gemma_metrics.items():\n",
    "            if key == key2:\n",
    "                if value2 == None:\n",
    "                    break\n",
    "                if value2 == 0:\n",
    "                    gemma_metrics[key] = value\n",
    "                else:\n",
    "                    mean_me = mean([value,value2])\n",
    "                    gemma_metrics[key] = mean_me\n",
    "                break\n",
    "            else:\n",
    "                continue"
   ]
  },
  {
   "cell_type": "code",
   "execution_count": null,
   "metadata": {},
   "outputs": [],
   "source": [
    "import matplotlib.pyplot as plt\n",
    "plt.figure(figsize=(10, 5))  # Ajusta el tamaño del gráfico\n",
    "plt.plot(chat_metrics.keys(), chat_metrics.values(), label='Chaterapia Metrics', color='blue', linestyle='-', marker='o')\n",
    "plt.plot(gemma_metrics.keys(), gemma_metrics.values(), label='Gemma Metrics', color='red', linestyle='-', marker='o')\n",
    "\n",
    "plt.title('Based model VS Chaterapia')  # Título del gráfico\n",
    "plt.xlabel('Interactions')  # Etiqueta del eje X\n",
    "plt.ylabel('Score')  # Etiqueta del eje Y\n",
    "plt.legend()  # Añade una leyenda\n",
    "\n",
    "plt.grid(True)  # Añade una cuadrícula\n",
    "plt.style.use('ggplot')  # Utiliza un estilo de fondo\n",
    "\n",
    "plt.show()"
   ]
  },
  {
   "cell_type": "code",
   "execution_count": null,
   "metadata": {},
   "outputs": [],
   "source": [
    "# Valores a graficar (debes calcular estos valores con tus datos reales)\n",
    "values = [mean(chat_metrics.values()), mean(gemma_metrics.values())]\n",
    "categories = ['Chaterapia Metrics', 'Gemma Metrics']\n",
    "\n",
    "plt.figure(figsize=(8, 4))  # Ajusta el tamaño del gráfico\n",
    "\n",
    "# Crear gráfico de barras con colores personalizados\n",
    "bars = plt.bar(categories, values, color=['blue', 'red'])\n",
    "\n",
    "# Añadir título y etiquetas\n",
    "plt.title('Based model VS Chaterapia')  # Título del gráfico\n",
    "plt.xlabel('Interactions')  # Etiqueta del eje X\n",
    "plt.ylabel('Score')  # Etiqueta del eje Y\n",
    "\n",
    "# Añadir valores sobre cada barra para claridad\n",
    "for bar in bars:\n",
    "    yval = bar.get_height()\n",
    "    plt.text(bar.get_x() + bar.get_width()/2, yval, round(yval, 2), ha='center', va='bottom')\n",
    "\n",
    "# Mejorar el estilo\n",
    "plt.style.use('ggplot')\n",
    "\n",
    "# Mostrar el gráfico\n",
    "plt.show()"
   ]
  },
  {
   "cell_type": "code",
   "execution_count": null,
   "metadata": {},
   "outputs": [],
   "source": [
    "lista_dic = []\n",
    "for i in df_chat[\"metrics\"]:\n",
    "    lista_dic.append(i[0])\n",
    "df_chat = pd.DataFrame(lista_dic)"
   ]
  },
  {
   "cell_type": "code",
   "execution_count": null,
   "metadata": {},
   "outputs": [],
   "source": [
    "# Eliminar las dos últimas columnas por nombre\n",
    "df = df_chat.drop(['14', '15'], axis=1)"
   ]
  },
  {
   "cell_type": "code",
   "execution_count": null,
   "metadata": {},
   "outputs": [],
   "source": [
    "el = []\n",
    "for i in df.columns:\n",
    "    el.append(len(df[i].dropna()))"
   ]
  },
  {
   "cell_type": "code",
   "execution_count": null,
   "metadata": {},
   "outputs": [],
   "source": [
    "import seaborn as sns\n",
    "import matplotlib.pyplot as plt\n",
    "# Crear el gráfico\n",
    "plt.bar(df.columns, el)\n",
    "plt.title(\"Chat length ditribution\")\n",
    "plt.xlabel(\"Interaction\")\n",
    "plt.ylabel(\"Density\")\n",
    "plt.show()"
   ]
  }
 ],
 "metadata": {
  "kernelspec": {
   "display_name": "machine_learning_Cuda",
   "language": "python",
   "name": "python3"
  },
  "language_info": {
   "codemirror_mode": {
    "name": "ipython",
    "version": 3
   },
   "file_extension": ".py",
   "mimetype": "text/x-python",
   "name": "python",
   "nbconvert_exporter": "python",
   "pygments_lexer": "ipython3",
   "version": "3.11.8"
  }
 },
 "nbformat": 4,
 "nbformat_minor": 2
}
